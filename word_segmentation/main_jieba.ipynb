{
 "cells": [
  {
   "cell_type": "markdown",
   "id": "56030b7f-b3ad-43c0-968b-04891ffde28e",
   "metadata": {},
   "source": [
    "# 结巴分词实践"
   ]
  },
  {
   "cell_type": "markdown",
   "id": "65265c9f-795f-48bd-a6b3-e21a3671cf12",
   "metadata": {},
   "source": [
    "## 结巴分词的三种模式"
   ]
  },
  {
   "cell_type": "markdown",
   "id": "f805d0f6-a1a2-43dc-ac1a-8316e413cc1a",
   "metadata": {},
   "source": [
    "### 全模式  \n"
   ]
  },
  {
   "cell_type": "code",
   "execution_count": 3,
   "id": "a2339dd4-acde-472d-ad33-b74629a77b2a",
   "metadata": {
    "jp-MarkdownHeadingCollapsed": true
   },
   "outputs": [
    {
     "name": "stdout",
     "output_type": "stream",
     "text": [
      "Full Mode: 我/ 来到/ 北京/ 清华/ 清华大学/ 华大/ 大学\n"
     ]
    }
   ],
   "source": [
    "import jieba  \n",
    "\n",
    "seg_list = jieba.cut(\"我来到北京清华大学\", cut_all=True)\n",
    "print(\"Full Mode: \" + \"/ \".join(seg_list))  # 全模式"
   ]
  },
  {
   "cell_type": "markdown",
   "id": "4e3e5987-866d-43a3-902b-3e0df2c1925d",
   "metadata": {},
   "source": [
    "### 精确模式  "
   ]
  },
  {
   "cell_type": "code",
   "execution_count": 2,
   "id": "797c3e7f-7c5a-4ee8-bc1c-28aae21c4151",
   "metadata": {
    "jp-MarkdownHeadingCollapsed": true
   },
   "outputs": [
    {
     "name": "stdout",
     "output_type": "stream",
     "text": [
      "全模式: 我/ 来到/ 北京/ 清华/ 清华大学/ 华大/ 大学\n"
     ]
    }
   ],
   "source": [
    "seg_list = jieba.cut(\"我来到北京清华大学\", cut_all=False)\n",
    "print(\"Default Mode: \" + \"/ \".join(seg_list))  # 精确模式"
   ]
  },
  {
   "cell_type": "markdown",
   "id": "3c5e48dc-eeee-49ae-90b6-ade7c332b321",
   "metadata": {},
   "source": [
    "### 搜索引擎模式  "
   ]
  },
  {
   "cell_type": "code",
   "execution_count": 4,
   "id": "bcf8b358-f45c-4d6f-ba22-534866b724cc",
   "metadata": {},
   "outputs": [
    {
     "name": "stdout",
     "output_type": "stream",
     "text": [
      "小明, 硕士, 毕业, 于, 中国, 科学, 学院, 科学院, 中国科学院, 计算, 计算所, ，, 后, 在, 日本, 京都, 大学, 日本京都大学, 深造\n"
     ]
    }
   ],
   "source": [
    "seg_list = jieba.cut_for_search(\"小明硕士毕业于中国科学院计算所，后在日本京都大学深造\")  # 搜索引擎模式\n",
    "print(\", \".join(seg_list))"
   ]
  },
  {
   "cell_type": "code",
   "execution_count": null,
   "id": "082c6dee-91ed-4270-966b-cad21ed80c97",
   "metadata": {},
   "outputs": [],
   "source": []
  },
  {
   "cell_type": "code",
   "execution_count": 1,
   "id": "26a1417e-67ca-47e2-ad30-828908aebf27",
   "metadata": {},
   "outputs": [
    {
     "name": "stderr",
     "output_type": "stream",
     "text": [
      "Building prefix dict from the default dictionary ...\n",
      "Loading model from cache C:\\Users\\86134\\AppData\\Local\\Temp\\jieba.cache\n",
      "Loading model cost 0.598 seconds.\n",
      "Prefix dict has been built successfully.\n"
     ]
    },
    {
     "name": "stdout",
     "output_type": "stream",
     "text": [
      "分词结果: 张天豪/ 即将/ 是/ 自然语言/ 处理/ 方面/ 的/ 高手/ 。\n"
     ]
    }
   ],
   "source": [
    "import jieba  \n",
    "\n",
    "# 指定自定义词典  \n",
    "jieba.load_userdict('userdict.txt')  \n",
    "\n",
    "# 进行分词，确保设置HMM=False  \n",
    "sentence = \"张天豪即将是自然语言处理方面的高手。\"  \n",
    "words = jieba.cut(sentence, HMM=False)  \n",
    "\n",
    "# 输出结果  \n",
    "print(\"分词结果:\", \"/ \".join(words))  "
   ]
  },
  {
   "cell_type": "code",
   "execution_count": 2,
   "id": "5f96d21d-395c-4b85-b980-2f5421eacb94",
   "metadata": {},
   "outputs": [
    {
     "name": "stdout",
     "output_type": "stream",
     "text": [
      "提取的关键词: ['河北省人民政府', '一流大学', '燕山大学', '学科建设', '大学']\n"
     ]
    }
   ],
   "source": [
    "import jieba.analyse  \n",
    "\n",
    "# 待提取关键词的文本  \n",
    "text = (\"燕山大学是河北省人民政府、教育部、工业和信息化部、国家国防科技工业局四方共建的全国重点大学，\"  \n",
    "        \"河北省重点支持的国家一流大学和世界一流学科建设高校，北京高科大学联盟成员。\")  \n",
    "\n",
    "# 提取top-5关键词  \n",
    "top_keywords = jieba.analyse.extract_tags(text, topK=5)  \n",
    "\n",
    "# 输出结果  \n",
    "print(\"提取的关键词:\", top_keywords)  "
   ]
  },
  {
   "cell_type": "code",
   "execution_count": null,
   "id": "77f72157-750b-417b-acc9-76c4b095b0ce",
   "metadata": {},
   "outputs": [],
   "source": []
  }
 ],
 "metadata": {
  "kernelspec": {
   "display_name": "Python 3 (ipykernel)",
   "language": "python",
   "name": "python3"
  },
  "language_info": {
   "codemirror_mode": {
    "name": "ipython",
    "version": 3
   },
   "file_extension": ".py",
   "mimetype": "text/x-python",
   "name": "python",
   "nbconvert_exporter": "python",
   "pygments_lexer": "ipython3",
   "version": "3.9.21"
  }
 },
 "nbformat": 4,
 "nbformat_minor": 5
}
